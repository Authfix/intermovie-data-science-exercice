{
 "metadata": {
  "language_info": {
   "codemirror_mode": {
    "name": "ipython",
    "version": 3
   },
   "file_extension": ".py",
   "mimetype": "text/x-python",
   "name": "python",
   "nbconvert_exporter": "python",
   "pygments_lexer": "ipython3",
   "version": "3.7.9-final"
  },
  "orig_nbformat": 2,
  "kernelspec": {
   "name": "python_defaultSpec_1600422095208",
   "display_name": "Python 3.7.9 64-bit ('data-science': conda)"
  }
 },
 "nbformat": 4,
 "nbformat_minor": 2,
 "cells": [
  {
   "cell_type": "code",
   "execution_count": 1,
   "metadata": {},
   "outputs": [],
   "source": [
    "# chargement des extensions\n",
    "%reload_ext autoreload\n",
    "%autoreload 2\n",
    "\n",
    "# import des librairies\n",
    "from modules.data.loader import IntermovieDataLoader"
   ]
  },
  {
   "source": [
    "## 1. Chargement des données\n",
    "\n",
    "Nous chargons les données depuis le cloud Azure et on extract sur le poste."
   ],
   "cell_type": "markdown",
   "metadata": {}
  },
  {
   "cell_type": "code",
   "execution_count": 2,
   "metadata": {
    "tags": []
   },
   "outputs": [
    {
     "output_type": "stream",
     "name": "stdout",
     "text": "Les fichiers sont correctement extraits\n"
    }
   ],
   "source": [
    "data_loader = IntermovieDataLoader()\n",
    "data_loader.ensure_data_loaded()"
   ]
  },
  {
   "source": [
    "## 2. "
   ],
   "cell_type": "markdown",
   "metadata": {}
  },
  {
   "cell_type": "code",
   "execution_count": 5,
   "metadata": {
    "tags": []
   },
   "outputs": [],
   "source": [
    "import pandas as pd\n",
    "\n",
    "ratings_df = pd.read_csv('../data/RAW/title.ratings.tsv', delimiter='\\t', index_col=0)\n",
    "title_df: pd.DataFrame = pd.read_csv('../data/RAW/title.basics.tsv', delimiter='\\t', index_col=0)\n",
    "\n",
    "title_rating_df: pd.DataFrame = title_df.merge(ratings_df, right_index=True, left_index=True, how='left')\n",
    "title_rating_df = title_rating_df.drop(columns=['titleType', 'primaryTitle'])\n",
    "\n",
    "title_rating_df.to_csv('../data/CURATED/titles.ratings.csv')"
   ]
  },
  {
   "cell_type": "code",
   "execution_count": null,
   "metadata": {
    "tags": []
   },
   "outputs": [],
   "source": [
    "print(title_rating_df.iloc[:])"
   ]
  }
 ]
}