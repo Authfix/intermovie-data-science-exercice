{
 "metadata": {
  "language_info": {
   "codemirror_mode": {
    "name": "ipython",
    "version": 3
   },
   "file_extension": ".py",
   "mimetype": "text/x-python",
   "name": "python",
   "nbconvert_exporter": "python",
   "pygments_lexer": "ipython3",
   "version": "3.7.9-final"
  },
  "orig_nbformat": 2,
  "kernelspec": {
   "name": "python_defaultSpec_1600422095208",
   "display_name": "Python 3.7.9 64-bit ('data-science': conda)"
  }
 },
 "nbformat": 4,
 "nbformat_minor": 2,
 "cells": [
  {
   "cell_type": "code",
   "execution_count": 2,
   "metadata": {},
   "outputs": [],
   "source": [
    "# chargement des extensions\n",
    "%reload_ext autoreload\n",
    "%autoreload 2\n",
    "\n",
    "# import des librairies\n",
    "from modules.data.loader import IntermovieDataLoader"
   ]
  },
  {
   "source": [
    "## 1. Chargement des données\n",
    "\n",
    "Nous chargons les données depuis le cloud Azure et on extract sur le poste."
   ],
   "cell_type": "markdown",
   "metadata": {}
  },
  {
   "cell_type": "code",
   "execution_count": 10,
   "metadata": {
    "tags": []
   },
   "outputs": [
    {
     "output_type": "stream",
     "name": "stdout",
     "text": "Begin extracting data\nData extract successfully\n"
    },
    {
     "output_type": "execute_result",
     "data": {
      "text/plain": "True"
     },
     "metadata": {},
     "execution_count": 10
    }
   ],
   "source": [
    "data_loader = IntermovieDataLoader()\n",
    "data_loader.ensure_data_loaded()"
   ]
  }
 ]
}